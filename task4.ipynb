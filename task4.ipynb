{
 "cells": [
  {
   "cell_type": "code",
   "execution_count": 1,
   "id": "ac43c069-60e9-4cb1-8a9f-3a5e84a78185",
   "metadata": {},
   "outputs": [
    {
     "name": "stdout",
     "output_type": "stream",
     "text": [
      "Requirement already satisfied: surprise in c:\\users\\valmi\\anaconda3\\lib\\site-packages (0.1)\n",
      "Requirement already satisfied: scikit-surprise in c:\\users\\valmi\\anaconda3\\lib\\site-packages (from surprise) (1.1.4)\n",
      "Requirement already satisfied: joblib>=1.2.0 in c:\\users\\valmi\\anaconda3\\lib\\site-packages (from scikit-surprise->surprise) (1.4.2)\n",
      "Requirement already satisfied: numpy>=1.19.5 in c:\\users\\valmi\\anaconda3\\lib\\site-packages (from scikit-surprise->surprise) (1.26.4)\n",
      "Requirement already satisfied: scipy>=1.6.0 in c:\\users\\valmi\\anaconda3\\lib\\site-packages (from scikit-surprise->surprise) (1.13.1)\n"
     ]
    }
   ],
   "source": [
    "# Install the required libraries\n",
    "!pip install surprise\n"
   ]
  },
  {
   "cell_type": "code",
   "execution_count": 5,
   "id": "a5fbfc29-7c8e-4c06-b6b6-6aa620278d62",
   "metadata": {},
   "outputs": [],
   "source": [
    "\n",
    "\n",
    "# Import necessary libraries\n",
    "import pandas as pd\n",
    "from surprise import Dataset, Reader\n",
    "from surprise import SVD\n",
    "from surprise.model_selection import cross_validate, train_test_split\n",
    "from surprise import accuracy\n"
   ]
  },
  {
   "cell_type": "code",
   "execution_count": 7,
   "id": "7738c19a-7ccc-4a62-8aa4-c065efb4c46f",
   "metadata": {},
   "outputs": [
    {
     "name": "stdout",
     "output_type": "stream",
     "text": [
      "   user_id  book_id  rating\n",
      "0        1      258       5\n",
      "1        2     4081       4\n",
      "2        2      260       5\n",
      "3        2     9296       5\n",
      "4        2     2318       3\n"
     ]
    }
   ],
   "source": [
    "\n",
    "\n",
    "# Load Book-Crossing dataset\n",
    "# Download and load the dataset\n",
    "data_url = \"https://raw.githubusercontent.com/zygmuntz/goodbooks-10k/master/ratings.csv\"\n",
    "df = pd.read_csv(data_url)\n",
    "\n",
    "# Preview dataset\n",
    "print(df.head())"
   ]
  },
  {
   "cell_type": "code",
   "execution_count": 9,
   "id": "c6740fa6-ae06-4aed-9b2b-a00a076df1a8",
   "metadata": {},
   "outputs": [],
   "source": [
    "# Use only necessary columns\n",
    "df = df[['user_id', 'book_id', 'rating']]\n",
    "# Define a reader with rating scale (Book-Crossing uses a 1-10 scale)\n",
    "reader = Reader(rating_scale=(1, 10))\n",
    "\n",
    "# Load dataset into Surprise format\n",
    "data = Dataset.load_from_df(df[['user_id', 'book_id', 'rating']], reader)"
   ]
  },
  {
   "cell_type": "code",
   "execution_count": 16,
   "id": "26d84a92-4eea-49ab-9e78-7a2dfa89236a",
   "metadata": {},
   "outputs": [
    {
     "name": "stdout",
     "output_type": "stream",
     "text": [
      "RMSE: 0.8309\n",
      "Evaluating RMSE, MAE of algorithm SVD on 5 split(s).\n",
      "\n",
      "                  Fold 1  Fold 2  Fold 3  Fold 4  Fold 5  Mean    Std     \n",
      "RMSE (testset)    0.8321  0.8293  0.8310  0.8305  0.8314  0.8308  0.0009  \n",
      "MAE (testset)     0.6445  0.6420  0.6437  0.6430  0.6436  0.6434  0.0008  \n",
      "Fit time          156.24  164.33  142.15  151.89  115.90  146.10  16.71   \n",
      "Test time         28.77   26.84   31.17   29.29   20.05   27.22   3.84    \n",
      "\n",
      "Top 10 book recommendations for User 1:\n",
      "\n",
      "Book ID: 66, Predicted Rating: 4.16641671240337\n",
      "Book ID: 177, Predicted Rating: 4.006029129308437\n",
      "Book ID: 4, Predicted Rating: 3.9516763423583896\n",
      "Book ID: 36, Predicted Rating: 3.855149995137722\n",
      "Book ID: 94, Predicted Rating: 3.8471740318616767\n",
      "Book ID: 437, Predicted Rating: 3.820615430696438\n",
      "Book ID: 32, Predicted Rating: 3.7439220103386086\n",
      "Book ID: 273, Predicted Rating: 3.6989624841799986\n",
      "Book ID: 329, Predicted Rating: 3.687523883791537\n",
      "Book ID: 140, Predicted Rating: 3.5598441659665245\n"
     ]
    }
   ],
   "source": [
    "# Split data into training and testing sets\n",
    "trainset, testset = train_test_split(data, test_size=0.2)\n",
    "\n",
    "# Use SVD (Singular Value Decomposition) for Matrix Factorization\n",
    "model = SVD()\n",
    "\n",
    "# Train the model on the training data\n",
    "model.fit(trainset)\n",
    "\n",
    "# Make predictions on the test data\n",
    "predictions = model.test(testset)\n",
    "\n",
    "# Evaluate the model performance using RMSE\n",
    "accuracy.rmse(predictions)\n",
    "\n",
    "# Cross-validate the model to check overall performance\n",
    "cross_validate(model, data, measures=['RMSE', 'MAE'], cv=5, verbose=True)\n",
    "\n",
    "# Function to get top n recommendations for a specific user\n",
    "def get_top_n_recommendations(predictions, n=10):\n",
    "    from collections import defaultdict\n",
    "    \n",
    "    # Map the predictions to each user\n",
    "    top_n = defaultdict(list)\n",
    "    for uid, iid, true_r, est, _ in predictions:\n",
    "        top_n[uid].append((iid, est))\n",
    "    \n",
    "    # Sort the predictions for each user and get the top n items\n",
    "    for uid, user_ratings in top_n.items():\n",
    "        user_ratings.sort(key=lambda x: x[1], reverse=True)\n",
    "        top_n[uid] = user_ratings[:n]\n",
    "    \n",
    "    return top_n\n",
    "\n",
    "# Get top 10 recommendations for all users\n",
    "top_n_recommendations = get_top_n_recommendations(predictions, n=10)\n",
    "\n",
    "# Display recommendations for a specific user (e.g., user 1)\n",
    "user_id = 1\n",
    "print(f\"\\nTop 10 book recommendations for User {user_id}:\\n\")\n",
    "for book_id, predicted_rating in top_n_recommendations[user_id]:\n",
    "    print(f\"Book ID: {book_id}, Predicted Rating: {predicted_rating}\")"
   ]
  },
  {
   "cell_type": "code",
   "execution_count": null,
   "id": "3a8442e4-01ac-4052-b720-ac6c2e3f52d3",
   "metadata": {},
   "outputs": [],
   "source": []
  }
 ],
 "metadata": {
  "kernelspec": {
   "display_name": "Python [conda env:base] *",
   "language": "python",
   "name": "conda-base-py"
  },
  "language_info": {
   "codemirror_mode": {
    "name": "ipython",
    "version": 3
   },
   "file_extension": ".py",
   "mimetype": "text/x-python",
   "name": "python",
   "nbconvert_exporter": "python",
   "pygments_lexer": "ipython3",
   "version": "3.12.7"
  }
 },
 "nbformat": 4,
 "nbformat_minor": 5
}
